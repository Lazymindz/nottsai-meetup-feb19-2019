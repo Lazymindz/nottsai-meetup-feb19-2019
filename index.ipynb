{
 "cells": [
  {
   "cell_type": "markdown",
   "metadata": {
    "slideshow": {
     "slide_type": "slide"
    }
   },
   "source": [
    "## NOTTS - AI Monthly Catchup - February 2019\n",
    "\n",
    "### 'Automation of automating automation' + Image Verification Challenge\n",
    "\n",
    "\n",
    "While we wait...are you on slack yet?\n",
    "Yes, then good :)\n",
    "\n",
    "No, here is a cryptic invite\n",
    "- Head to https://notts.ai/\n",
    "- Bottom right corner (footer)\n",
    "- Find the invite"
   ]
  },
  {
   "cell_type": "markdown",
   "metadata": {
    "slideshow": {
     "slide_type": "slide"
    }
   },
   "source": [
    "![](./images/intro.jpg)"
   ]
  },
  {
   "cell_type": "markdown",
   "metadata": {
    "slideshow": {
     "slide_type": "slide"
    }
   },
   "source": [
    "## Automation of automating automation\n",
    "\n",
    ">*__Computer programming is about automation, and machine learning is all about automating automation. Then, automated machine learning is the automation of automating automation.__*  \n",
    ">                                                     -  Sebastian Rashka  \n",
    "\n",
    ">\"AutomML is quite a revolution in AI..\"\n",
    "\n",
    ">**Automated Machine Learning - A Paradigm shift that Accelerates Dat Scientist Productivity **@ Airbnb**\n",
    "\n",
    "> ## Building A.I. That Can Build A.I.\n",
    "\n",
    "Slide Credits: SciPy 2018"
   ]
  },
  {
   "cell_type": "markdown",
   "metadata": {
    "slideshow": {
     "slide_type": "subslide"
    }
   },
   "source": [
    "**Google and others are looking for automated ways to deal with a shortage of AI experts.**\n",
    "\n",
    "![](./images/google_automl.JPG)\n",
    "\n",
    "Slide Credits: Google"
   ]
  },
  {
   "cell_type": "markdown",
   "metadata": {
    "slideshow": {
     "slide_type": "subslide"
    }
   },
   "source": [
    "#### Machine learning tasks\n",
    "\n",
    "![](https://s3.amazonaws.com/media-p.slid.es/uploads/707813/images/3776955/ml-pipeline.png)\n",
    "\n",
    "- Preprocess and clean the data.\n",
    "- Select and construct appropriate features.\n",
    "- Select an appropriate model family.\n",
    "- Optimize model hyperparameters.\n",
    "- Postprocess machine learning models.\n",
    "- Critically analyze the results obtained.\n",
    "\n",
    "Image Credits: Randy Olson"
   ]
  },
  {
   "cell_type": "markdown",
   "metadata": {
    "slideshow": {
     "slide_type": "subslide"
    }
   },
   "source": [
    "![](https://pbs.twimg.com/media/CeyWg6oWEAAObtP.jpg)"
   ]
  },
  {
   "cell_type": "markdown",
   "metadata": {
    "slideshow": {
     "slide_type": "subslide"
    }
   },
   "source": [
    "### Some Tools out there\n",
    "\n",
    "**Proprietary Toolstack**\n",
    "- Google AutoML\n",
    "- DataRobot\n",
    "\n",
    "**Open Source**\n",
    "![opentools](./images/openautoml.JPG)\n",
    "\n",
    "- autokeras\n",
    "\n",
    "\n",
    "references:\n",
    "- https://towardsdatascience.com/autokeras-the-killer-of-googles-automl-9e84c552a319\n",
    "- [KDnuggets: Current State of Automated Machine Learning](http://www.kdnuggets.com/2017/01/current-state-automated-machine-learning.html)\n",
    "- [NIPS: Efficient and Robust Automated Machine Learning](https://papers.nips.cc/paper/5872-efficient-and-robust-automated-machine-learning.pdf)\n",
    "- http://www.automl.org/\n",
    "- http://www.ml4aad.org/"
   ]
  },
  {
   "cell_type": "markdown",
   "metadata": {
    "slideshow": {
     "slide_type": "slide"
    }
   },
   "source": [
    "## Project RTA - Next Steps"
   ]
  },
  {
   "cell_type": "markdown",
   "metadata": {
    "slideshow": {
     "slide_type": "slide"
    }
   },
   "source": [
    "## Monthly Challenge (February 2019)\n",
    "\n",
    "\n",
    "Idea: At the next Meetup demo your implementation of 'Face Verification'\n",
    "\n",
    "Details: Identify the name of memebers present at the next meetup.\n",
    "\n",
    "Dataset: Extract member images, tags from our group (Meetup api, web scrapping)\n",
    "\n",
    "Notes:\n",
    "- FaceNet\n",
    "- DeepFace\n",
    "- OpenFace\n",
    "- Don't start from scratch (Use Pretrained Models)(e.g.: [DLib.net](http://dlib.net/))\n",
    "- Consider using exisiting services (if thats how you like to do it)"
   ]
  },
  {
   "cell_type": "markdown",
   "metadata": {
    "slideshow": {
     "slide_type": "subslide"
    }
   },
   "source": [
    "![](./images/Output_sample.PNG)"
   ]
  }
 ],
 "metadata": {
  "celltoolbar": "Slideshow",
  "kernelspec": {
   "display_name": "Python 3",
   "language": "python",
   "name": "python3"
  },
  "language_info": {
   "codemirror_mode": {
    "name": "ipython",
    "version": 3
   },
   "file_extension": ".py",
   "mimetype": "text/x-python",
   "name": "python",
   "nbconvert_exporter": "python",
   "pygments_lexer": "ipython3",
   "version": "3.6.5"
  }
 },
 "nbformat": 4,
 "nbformat_minor": 2
}
